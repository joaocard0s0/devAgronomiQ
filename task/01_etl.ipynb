{
 "cells": [
  {
   "cell_type": "code",
   "execution_count": 2,
   "metadata": {},
   "outputs": [],
   "source": [
    "#! /usr/bin/python\n",
    "\n",
    "# **************************************#\n",
    "# -- coding: utf-8 --                   #\n",
    "# **************************************#\n",
    "# Author:                               #\n",
    "# João Paulo Cardoso do Carmo           #\n",
    "# Date: 2025-08-30                      #\n",
    "# **************************************#\n",
    "\n",
    "#*********** Imports ***********\n",
    "import geopandas as gpd\n",
    "import pandas as pd\n",
    "import os\n"
   ]
  },
  {
   "cell_type": "code",
   "execution_count": 9,
   "metadata": {},
   "outputs": [],
   "source": [
    "\n",
    "#*********** Methods ***********\n",
    "def task_01():\n",
    "    \"\"\"\n",
    "    Instruções:\n",
    "        1- Download dos dados municipais do estado de Minas Gerais;\n",
    "        2- Transformação dos dados de desmatamento;\n",
    "        3- Processamento dos dados:\n",
    "            -reprojeção para EPSG:31983;\n",
    "            -cálculo de área;\n",
    "        4- Geração dos arquivos de saída no formato GeoJSON;\n",
    "\n",
    "    Observações\n",
    "        - O Arquivo nã foi setado na mão o crs, e sim usado a função do próprio geopandas,\n",
    "        pois deixa o código mais robusto.\n",
    "        - Não foi salvo em UTM o arquivo, pois não é uma boa prática quando se usa geopandas e geojson.\n",
    "    \"\"\"\n",
    "    \n",
    "    # Read geojson \n",
    "    link_geojson = \"https://raw.githubusercontent.com/tbrugz/geodata-br/master/geojson/geojs-31-mun.json\"\n",
    "    gframe = gpd.read_file(link_geojson)\n",
    "    # Explode file\n",
    "    gframe = gframe.reset_index(drop=True).explode(ignore_index=True)\n",
    "\n",
    "    # Find utm crs\n",
    "    utm_crs = gframe.estimate_utm_crs()\n",
    "    # Convert to UTM\n",
    "    gframe = gframe.to_crs(utm_crs)\n",
    "    # Calc área in km²\n",
    "    gframe[\"area_km2\"] = gframe.area / 1_000_000\n",
    "\n",
    "    # Convert to 4326\n",
    "    gframe = gframe.to_crs(4326)\n",
    "    # Path to save\n",
    "    path_output = os.path.join(\"..\", \"dados\", \"municipios-mg.geojson\")\n",
    "    # Save file\n",
    "    gframe.to_file(path_output)\n",
    "\n",
    "    # Output to user\n",
    "    print(f\"Task 01 done, file path: {path_output}\")"
   ]
  },
  {
   "cell_type": "code",
   "execution_count": 10,
   "metadata": {},
   "outputs": [
    {
     "name": "stdout",
     "output_type": "stream",
     "text": [
      "Task 01 done, file path: ..\\dados\\municipios-mg.geojson\n"
     ]
    }
   ],
   "source": [
    "task_01()"
   ]
  },
  {
   "cell_type": "code",
   "execution_count": null,
   "metadata": {},
   "outputs": [],
   "source": []
  }
 ],
 "metadata": {
  "kernelspec": {
   "display_name": "agronomiq",
   "language": "python",
   "name": "python3"
  },
  "language_info": {
   "codemirror_mode": {
    "name": "ipython",
    "version": 3
   },
   "file_extension": ".py",
   "mimetype": "text/x-python",
   "name": "python",
   "nbconvert_exporter": "python",
   "pygments_lexer": "ipython3",
   "version": "3.10.12"
  }
 },
 "nbformat": 4,
 "nbformat_minor": 2
}
