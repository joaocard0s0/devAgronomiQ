{
 "cells": [
  {
   "cell_type": "code",
   "execution_count": null,
   "metadata": {},
   "outputs": [],
   "source": [
    "\"\"\"\n",
    "    Instruções:\n",
    "        1- Download dos dados municipais do estado de Minas Gerais;\n",
    "        2- Transformação dos dados de desmatamento;\n",
    "        3- Processamento dos dados:\n",
    "            -reprojeção para EPSG:31983;\n",
    "            -cálculo de área;\n",
    "        4- Geração dos arquivos de saída no formato GeoJSON;\n",
    "\"\"\""
   ]
  },
  {
   "cell_type": "code",
   "execution_count": null,
   "metadata": {},
   "outputs": [],
   "source": []
  }
 ],
 "metadata": {
  "kernelspec": {
   "display_name": "agronomiq",
   "language": "python",
   "name": "python3"
  },
  "language_info": {
   "name": "python",
   "version": "3.10.12"
  }
 },
 "nbformat": 4,
 "nbformat_minor": 2
}
